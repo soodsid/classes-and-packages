{
 "cells": [
  {
   "cell_type": "markdown",
   "id": "d43416d1",
   "metadata": {},
   "source": [
    "3+3\n"
   ]
  },
  {
   "cell_type": "code",
   "execution_count": null,
   "id": "bd4e8239",
   "metadata": {},
   "outputs": [],
   "source": []
  },
  {
   "cell_type": "code",
   "execution_count": null,
   "id": "7ce45c16",
   "metadata": {},
   "outputs": [],
   "source": [
    "4+5\n"
   ]
  },
  {
   "cell_type": "code",
   "execution_count": null,
   "id": "7edc412d",
   "metadata": {},
   "outputs": [],
   "source": [
    "hfeigie\n"
   ]
  },
  {
   "cell_type": "code",
   "execution_count": null,
   "id": "65521680",
   "metadata": {},
   "outputs": [],
   "source": [
    "print ('gjsf')\n"
   ]
  },
  {
   "cell_type": "code",
   "execution_count": null,
   "id": "0a218329",
   "metadata": {},
   "outputs": [],
   "source": [
    "x=sid\n",
    "print persion is some one    \n",
    "if (x =sid)\n",
    "    print sid is awesome\n",
    "    if 467\n",
    "        print kjh\n",
    "else\n",
    "    print sdfghjhgf\n",
    "print persion is some one"
   ]
  },
  {
   "cell_type": "code",
   "execution_count": null,
   "id": "518c4819",
   "metadata": {},
   "outputs": [],
   "source": [
    "\n",
    "\n",
    "\n",
    "5+6"
   ]
  },
  {
   "cell_type": "code",
   "execution_count": null,
   "id": "291414ae",
   "metadata": {},
   "outputs": [],
   "source": [
    "print ('sdfghjk')"
   ]
  },
  {
   "cell_type": "code",
   "execution_count": null,
   "id": "52c4498f",
   "metadata": {},
   "outputs": [],
   "source": [
    "print (\"my name is abhishek\")"
   ]
  },
  {
   "cell_type": "code",
   "execution_count": null,
   "id": "76463cfb",
   "metadata": {},
   "outputs": [],
   "source": [
    "x=\"asdfghjk\"\n"
   ]
  },
  {
   "cell_type": "code",
   "execution_count": null,
   "id": "4e767f89",
   "metadata": {},
   "outputs": [],
   "source": [
    "x"
   ]
  },
  {
   "cell_type": "code",
   "execution_count": null,
   "id": "a3198291",
   "metadata": {},
   "outputs": [],
   "source": [
    "a=\"wertyui\""
   ]
  },
  {
   "cell_type": "code",
   "execution_count": null,
   "id": "4d39b38f",
   "metadata": {},
   "outputs": [],
   "source": [
    "s=\"yhn\""
   ]
  },
  {
   "cell_type": "code",
   "execution_count": null,
   "id": "cde87960",
   "metadata": {},
   "outputs": [],
   "source": [
    "q=\"ggyh\""
   ]
  },
  {
   "cell_type": "code",
   "execution_count": null,
   "id": "369a569f",
   "metadata": {},
   "outputs": [],
   "source": [
    "a"
   ]
  },
  {
   "cell_type": "code",
   "execution_count": null,
   "id": "5f80a556",
   "metadata": {},
   "outputs": [],
   "source": [
    "t=88888\n"
   ]
  },
  {
   "cell_type": "code",
   "execution_count": null,
   "id": "15d1b665",
   "metadata": {},
   "outputs": [],
   "source": [
    "t\n"
   ]
  },
  {
   "cell_type": "code",
   "execution_count": null,
   "id": "c9e0ad49",
   "metadata": {},
   "outputs": [],
   "source": [
    "e=\"6325555\""
   ]
  },
  {
   "cell_type": "code",
   "execution_count": null,
   "id": "3bdcfdd9",
   "metadata": {},
   "outputs": [],
   "source": [
    "e"
   ]
  },
  {
   "cell_type": "code",
   "execution_count": null,
   "id": "89557745",
   "metadata": {},
   "outputs": [],
   "source": [
    "e=e+1"
   ]
  },
  {
   "cell_type": "code",
   "execution_count": null,
   "id": "07b4199a",
   "metadata": {},
   "outputs": [],
   "source": []
  },
  {
   "cell_type": "code",
   "execution_count": null,
   "id": "c2665cf0",
   "metadata": {},
   "outputs": [],
   "source": [
    "t=t+1"
   ]
  },
  {
   "cell_type": "code",
   "execution_count": null,
   "id": "81650d91",
   "metadata": {},
   "outputs": [],
   "source": [
    "t"
   ]
  },
  {
   "cell_type": "code",
   "execution_count": null,
   "id": "eceb450f",
   "metadata": {},
   "outputs": [],
   "source": [
    "u=123\n",
    "v=456\n",
    "b=u+v\n",
    "d='abc'"
   ]
  },
  {
   "cell_type": "code",
   "execution_count": null,
   "id": "f59e0008",
   "metadata": {},
   "outputs": [],
   "source": [
    "b"
   ]
  },
  {
   "cell_type": "code",
   "execution_count": null,
   "id": "325e6785",
   "metadata": {},
   "outputs": [],
   "source": [
    "d"
   ]
  },
  {
   "cell_type": "code",
   "execution_count": null,
   "id": "c09cbc0e",
   "metadata": {},
   "outputs": [],
   "source": [
    "s=str(b)+d"
   ]
  },
  {
   "cell_type": "code",
   "execution_count": null,
   "id": "748cf364",
   "metadata": {},
   "outputs": [],
   "source": [
    "s\n",
    "\n"
   ]
  },
  {
   "cell_type": "code",
   "execution_count": null,
   "id": "c681eb6d",
   "metadata": {},
   "outputs": [],
   "source": [
    "import random\n",
    "\n",
    "a=random.randint(0,99999999999999999999999999999999999999999999999999999999999999999999999999999999999999999999999999999999999999999999999999999999999999999999999999999999999999999999999999999999999999999999999999999999999999999999999999999999999999999999999999999999999999999999999999999999999999999999999999999999999999999999999999999999999999999999999999999999999999999999999999999999999999999999999999999999999999999999999999999999999999999999999999999999999999999999999999999999999999999999999999999999999999)"
   ]
  },
  {
   "cell_type": "code",
   "execution_count": null,
   "id": "b0df88e6",
   "metadata": {},
   "outputs": [],
   "source": [
    "a"
   ]
  },
  {
   "cell_type": "code",
   "execution_count": null,
   "id": "0f408726",
   "metadata": {},
   "outputs": [],
   "source": [
    "def prime_factors(n):\n",
    "    factors = []\n",
    "    d = 2\n",
    "    while (d * d <= n):\n",
    "        while (n % d == 0):\n",
    "            factors.append(d) \n",
    "            n = n // d\n",
    "        d += 1\n",
    "    if n > 1:\n",
    "        factors.append(n)\n",
    "    return factors\n",
    "\n",
    "# usage\n",
    "print(prime_factors(1143795142857491061985533321955312029322)) # Output : [2,2,3,5]\n",
    "\n",
    "\n"
   ]
  },
  {
   "cell_type": "code",
   "execution_count": null,
   "id": "46e191e0",
   "metadata": {},
   "outputs": [],
   "source": [
    "\n",
    "\n",
    "def adsum(a,b):\n",
    "    print (\"hello\") #<this is where it printed\n",
    "    c=a+b\n",
    "    return c\n",
    "    \n",
    "#yjbskvrksjv\n",
    "\n",
    "#codehrhvkre\n",
    "\n",
    "t=adsum(5,6)\n",
    "\n",
    "print(t)\n",
    "new=t*t\n",
    "print(new)"
   ]
  },
  {
   "cell_type": "code",
   "execution_count": null,
   "id": "85ba0ae3",
   "metadata": {},
   "outputs": [],
   "source": [
    "if \n",
    "elif\n",
    "elif\n",
    "elif\n",
    "elif\n",
    "elif\n",
    "elif\n",
    "elif\n",
    "elif\n",
    "elif\n",
    "elif()\n",
    "elif()\n",
    "else\n",
    "\n",
    "switch (num)\n",
    "1:\n",
    "    huvkewv\n",
    "2:\n",
    "    hfukeke\n",
    "3:\n",
    "    bjbvkej\n",
    "\n"
   ]
  },
  {
   "cell_type": "code",
   "execution_count": null,
   "id": "dc9affd8",
   "metadata": {},
   "outputs": [],
   "source": [
    "try : \n",
    "    x= int(input(\"enter a number  : \"))\n",
    "    y= int(input(\"enter a number  : \"))\n",
    "    \n",
    "    z=x/y\n",
    "    print (z)\n",
    "except ZeroDivisionError:\n",
    "    print(\"you know you have divided by 0 right?\")\n",
    "except ValueError:\n",
    "    print(\"its an integer why are you giving something which  clearly not an integer\")\n",
    "   # print(r)\n",
    "else:\n",
    "    print(\"everything worked fine i guess\")\n",
    "finally:\n",
    "    print(\"should we restart\")"
   ]
  },
  {
   "cell_type": "code",
   "execution_count": null,
   "id": "c9793438",
   "metadata": {},
   "outputs": [],
   "source": [
    "try : \n",
    "    x= int(input(\"enter a number  : \"))\n",
    "    y= input(\"enter a number  : \")\n",
    "    \n",
    "    z=x+y\n",
    "    print (z)\n",
    "except ZeroDivisionError:\n",
    "    print(\"you know you have divided by 0 right?\")\n",
    "except TypeError:\n",
    "    print(\"its a type error\")\n",
    "except ValueError:\n",
    "    print(\"its an integer why are you giving something which is clearly not an integer\")\n",
    "except IndexError:\n",
    "    print(\"error in index of a list\")\n",
    "except KeyError:\n",
    "    print(\"wrong key given in dictionary\")\n",
    "except FileNotFoundError:\n",
    "    print(\"the file you are trying to ope in snot available on the location\")\n",
    "except IOError:\n",
    "    print(\"error in index of a list\")\n",
    "except ImportError:\n",
    "    print(\"unable to import the library\")\n",
    "except MemoryError:\n",
    "    print(\"no more memory available\")\n",
    "except OveflowError:\n",
    "    print(\"overflowed\")\n",
    "except SyntaxError:\n",
    "    print(\"type the code correctly\")\n",
    "else:\n",
    "    print(\"everything worked fine i guess\")\n",
    "finally:\n",
    "    print(\"should we restart\")"
   ]
  },
  {
   "cell_type": "code",
   "execution_count": null,
   "id": "e63fa765",
   "metadata": {},
   "outputs": [],
   "source": [
    "logging also happenede after this \n",
    "\n",
    "but we are learning classes right now\n",
    "\n"
   ]
  },
  {
   "cell_type": "code",
   "execution_count": null,
   "id": "f1f805ea",
   "metadata": {},
   "outputs": [],
   "source": [
    "class cxc:\n",
    "    pass\n",
    "\n",
    "#simple class\n",
    "\n",
    "class bankacc:\n",
    "    \n",
    "    def __init__ (self, acno, acholname, balance=0):\n",
    "        self.accno=acno\n",
    "        self.holname=acholname\n",
    "        self.bal=balance\n",
    "        \n",
    "    def deposit (self, deposit):\n",
    "        self.bal=self.bal+deposit\n",
    "        \n",
    "    def withdraw (self, withdrawl):\n",
    "        if withdrawl<=self.balance:\n",
    "            self.bal=self.bal-withdrawl\n",
    "\n",
    "            \n",
    "acc1= bankacc(\"1234\", \"Sidhant\", 1000)\n"
   ]
  },
  {
   "cell_type": "code",
   "execution_count": null,
   "id": "518a76ef",
   "metadata": {},
   "outputs": [],
   "source": [
    "acc1\n"
   ]
  },
  {
   "cell_type": "code",
   "execution_count": null,
   "id": "afce7bf2",
   "metadata": {},
   "outputs": [],
   "source": [
    "type(acc1)"
   ]
  },
  {
   "cell_type": "code",
   "execution_count": null,
   "id": "86837627",
   "metadata": {},
   "outputs": [],
   "source": [
    "dir (acc1)"
   ]
  },
  {
   "cell_type": "code",
   "execution_count": null,
   "id": "51eca7a5",
   "metadata": {},
   "outputs": [],
   "source": [
    "acc2= bankacc('1111', \"sood\", 10)"
   ]
  },
  {
   "cell_type": "code",
   "execution_count": null,
   "id": "958549d4",
   "metadata": {},
   "outputs": [],
   "source": [
    "acc2.deposit(1000000)"
   ]
  },
  {
   "cell_type": "markdown",
   "id": "89ab1e14",
   "metadata": {},
   "source": [
    "print (acc2.balance)"
   ]
  },
  {
   "cell_type": "code",
   "execution_count": null,
   "id": "2eb31647",
   "metadata": {},
   "outputs": [],
   "source": [
    "print(acc2.bal)"
   ]
  },
  {
   "cell_type": "code",
   "execution_count": null,
   "id": "306ae49b",
   "metadata": {},
   "outputs": [],
   "source": [
    "#ANOTHER CLASS TODOLIST\n",
    "\n",
    "class todo:\n",
    "    def __init__ (self, person, task=[]):  #constructor\n",
    "        self.owner=person\n",
    "        self.task = []\n",
    "        \n",
    "    def addtask(self, taskname):\n",
    "        self.task.append(taskname)\n",
    "        \n",
    "    def done (self, taskname):\n",
    "        if taskname in task:\n",
    "            self.task.remove(taskname)\n",
    "            print (f\"the '{task}'has been completed\")\n",
    "        else:\n",
    "            print (\"the task is not found\")\n",
    "            \n",
    "    def display(self):\n",
    "        print (self.task)"
   ]
  },
  {
   "cell_type": "code",
   "execution_count": null,
   "id": "2491ba04",
   "metadata": {},
   "outputs": [],
   "source": [
    "sidlist=todo(\"sidhant\")"
   ]
  },
  {
   "cell_type": "code",
   "execution_count": null,
   "id": "db9aa4b1",
   "metadata": {},
   "outputs": [],
   "source": [
    "sidlist.addtask(\"learn at 9\")\n",
    "sidlist.addtask(\"eat at 10\")\n",
    "sidlist.addtask(\"leave 11\")\n",
    "sidlist.addtask(\"job 4\")"
   ]
  },
  {
   "cell_type": "code",
   "execution_count": null,
   "id": "6068c0ed",
   "metadata": {},
   "outputs": [],
   "source": [
    "sidlist.display()"
   ]
  },
  {
   "cell_type": "code",
   "execution_count": null,
   "id": "c6033d7d",
   "metadata": {},
   "outputs": [],
   "source": [
    "class vehicle:\n",
    "    def __init__ (self, brand):\n",
    "        self.brand=brand\n",
    "        \n",
    "    def start(self):\n",
    "        print (f\" vehicle is starting \")\n",
    "        \n",
    "class bicycle (vehicle):\n",
    "    def __init__ (self, brand, model):\n",
    "        super().__init__(brand)\n",
    "        self.model=model\n",
    "    def start(self):\n",
    "        print(f\"the {self.brand}\")\n",
    "        super().start()"
   ]
  },
  {
   "cell_type": "code",
   "execution_count": null,
   "id": "51c84bd6",
   "metadata": {},
   "outputs": [],
   "source": [
    "cycle1=bicycle(\"hero\", \"gear\")"
   ]
  },
  {
   "cell_type": "code",
   "execution_count": null,
   "id": "c9b2752f",
   "metadata": {},
   "outputs": [],
   "source": [
    "cycle1.start()"
   ]
  },
  {
   "cell_type": "code",
   "execution_count": null,
   "id": "f9461927",
   "metadata": {},
   "outputs": [],
   "source": [
    "\n",
    "class animals:\n",
    "    def __init__ (self, animalname, theresound):\n",
    "        self.species=animalname\n",
    "        self.sound=theresound\n",
    "    def pet(self):\n",
    "        print (f\"the {self.species} felt happy\")\n",
    "\n",
    "class cat(animals):\n",
    "    def __init__ (self, name, petavailablity, sound):\n",
    "        self.name= name\n",
    "        self.petYN= petavailablity\n",
    "        self.sound=sound\n",
    "        super().__init__(\"cat\", self.sound)\n",
    "        \n",
    "    def trypet(self):\n",
    "        if (self.petYN==\"y\"):\n",
    "            super().pet()\n",
    "        else:\n",
    "            print(\"it ran\")\n",
    "            \n",
    "    def speak (self):\n",
    "        print (f\"the {self.name} said {self.sound}\")\n",
    "            \n",
    "class dog(animals):\n",
    "    def __init__ (self, name, petavailablity, sound):\n",
    "        self.name= name\n",
    "        self.petYN= petavailablity\n",
    "        self.sound=sound\n",
    "        super().__init__(\"dog\", self.sound)\n",
    "        \n",
    "    def trypet(self):\n",
    "        if (self.petYN==\"y\"):\n",
    "            super().pet()\n",
    "        else:\n",
    "            print(\"it ran\")            \n",
    "            \n",
    "    \n",
    "        "
   ]
  },
  {
   "cell_type": "code",
   "execution_count": null,
   "id": "996b0bbe",
   "metadata": {},
   "outputs": [],
   "source": [
    "cat1= cat(\"bunny\", \"n\", \"meow\")"
   ]
  },
  {
   "cell_type": "code",
   "execution_count": null,
   "id": "e7040ce2",
   "metadata": {},
   "outputs": [],
   "source": [
    "cat2 = cat(\"runner\",\"y\", \"meow\")"
   ]
  },
  {
   "cell_type": "code",
   "execution_count": null,
   "id": "a2525398",
   "metadata": {},
   "outputs": [],
   "source": [
    "dog1 = dog(\"bruno\", \"y\", \"bhauuu\")\n",
    "dog2 = dog(\"cookie\",\"n\", \"aaaaaa\")"
   ]
  },
  {
   "cell_type": "code",
   "execution_count": null,
   "id": "c16e38a5",
   "metadata": {},
   "outputs": [],
   "source": [
    "cat1.trypet()"
   ]
  },
  {
   "cell_type": "code",
   "execution_count": null,
   "id": "ba8d2275",
   "metadata": {},
   "outputs": [],
   "source": [
    "cat2.trypet()"
   ]
  },
  {
   "cell_type": "code",
   "execution_count": null,
   "id": "4a6793c9",
   "metadata": {},
   "outputs": [],
   "source": [
    "dog1.trypet()"
   ]
  },
  {
   "cell_type": "code",
   "execution_count": null,
   "id": "c91fd427",
   "metadata": {},
   "outputs": [],
   "source": [
    "dog2.trypet()"
   ]
  },
  {
   "cell_type": "code",
   "execution_count": null,
   "id": "2830271a",
   "metadata": {},
   "outputs": [],
   "source": [
    "dog2."
   ]
  },
  {
   "cell_type": "code",
   "execution_count": null,
   "id": "c72407be",
   "metadata": {},
   "outputs": [],
   "source": [
    "print (\"rfe:  {}\\n bfrhj:  {}\".format(\"abc\",\"ty\"))"
   ]
  },
  {
   "cell_type": "code",
   "execution_count": null,
   "id": "16886186",
   "metadata": {},
   "outputs": [],
   "source": [
    "dir\n"
   ]
  },
  {
   "cell_type": "code",
   "execution_count": null,
   "id": "c2724ad7",
   "metadata": {},
   "outputs": [],
   "source": [
    "print (dir)"
   ]
  },
  {
   "cell_type": "code",
   "execution_count": null,
   "id": "87eb2a60",
   "metadata": {},
   "outputs": [],
   "source": [
    "import os\n",
    "dir_path = os.path.dirname(os.path.realpath())"
   ]
  },
  {
   "cell_type": "code",
   "execution_count": null,
   "id": "c6762486",
   "metadata": {},
   "outputs": [],
   "source": [
    "\n",
    "cwd = os.getcwd()"
   ]
  },
  {
   "cell_type": "code",
   "execution_count": null,
   "id": "29b67351",
   "metadata": {},
   "outputs": [],
   "source": [
    "print (cwd)"
   ]
  },
  {
   "cell_type": "code",
   "execution_count": null,
   "id": "a09aa841",
   "metadata": {},
   "outputs": [],
   "source": [
    "class animal:\n",
    "    def __init__(self, name)\n",
    "        self.name=name\n",
    "        pass\n",
    "    def make_sound(self):\n",
    "        pass\n",
    "\n",
    "class cat(animal):\n",
    "    def make_sound(self):\n",
    "        return \"meow\"\n",
    "\n",
    "class dog(animal):\n",
    "    def make_sound(self):\n",
    "        return \"woof\"\n",
    "    \n",
    "tom = cat(\"tom\")"
   ]
  },
  {
   "cell_type": "code",
   "execution_count": null,
   "id": "8eb5f020",
   "metadata": {},
   "outputs": [],
   "source": []
  }
 ],
 "metadata": {
  "kernelspec": {
   "display_name": "Python 3 (ipykernel)",
   "language": "python",
   "name": "python3"
  },
  "language_info": {
   "codemirror_mode": {
    "name": "ipython",
    "version": 3
   },
   "file_extension": ".py",
   "mimetype": "text/x-python",
   "name": "python",
   "nbconvert_exporter": "python",
   "pygments_lexer": "ipython3",
   "version": "3.9.7"
  }
 },
 "nbformat": 4,
 "nbformat_minor": 5
}
